{
 "cells": [
  {
   "cell_type": "markdown",
   "metadata": {},
   "source": [
    "# Developing an LLM application using Langchain"
   ]
  },
  {
   "cell_type": "markdown",
   "metadata": {},
   "source": [
    "## Task 1: Import Libraries"
   ]
  },
  {
   "cell_type": "code",
   "execution_count": 18,
   "metadata": {},
   "outputs": [],
   "source": [
    "import google.generativeai as genai\n",
    "import textwrap\n",
    "from IPython.display import display, Markdown\n",
    "from langchain_community.document_loaders import PyPDFLoader\n",
    "from langchain.text_splitter import RecursiveCharacterTextSplitter\n",
    "from langchain_google_genai import GoogleGenerativeAIEmbeddings, ChatGoogleGenerativeAI\n",
    "from langchain.vectorstores import Chroma\n",
    "from langchain.chains import RetrievalQA\n",
    "\n",
    "api_key = 'mykey'\n",
    "genai.configure(api_key=api_key)\n",
    "model = genai.GenerativeModel('gemini-pro')"
   ]
  },
  {
   "cell_type": "markdown",
   "metadata": {},
   "source": [
    "## Task 2: Ask The Questions Using Prompts"
   ]
  },
  {
   "cell_type": "code",
   "execution_count": 4,
   "metadata": {},
   "outputs": [
    {
     "name": "stderr",
     "output_type": "stream",
     "text": [
      "WARNING: All log messages before absl::InitializeLog() is called are written to STDERR\n",
      "I0000 00:00:1726973814.327842     380 config.cc:230] gRPC experiments enabled: call_status_override_on_cancellation, event_engine_dns, event_engine_listener, http2_stats_fix, monitoring_experiment, pick_first_new, trace_record_callops, work_serializer_clears_time_cache\n"
     ]
    },
    {
     "name": "stdout",
     "output_type": "stream",
     "text": [
      "- **Generates new data or content based on existing data:** Generative AI models can create realistic text, images, audio, and even code by learning patterns and relationships from vast datasets.\n",
      "- **Emulates human creativity:** These models are trained on diverse datasets to capture the nuances of human expression and generate content that resembles human-created outputs.\n",
      "- **Supports various applications:** Generative AI finds uses in content creation, art generation, natural language processing, drug discovery, and many other fields where novel or creative solutions are needed.\n"
     ]
    },
    {
     "data": {
      "text/markdown": [
       "- **Generates new data or content based on existing data:** Generative AI models can create realistic text, images, audio, and even code by learning patterns and relationships from vast datasets.\n",
       "- **Emulates human creativity:** These models are trained on diverse datasets to capture the nuances of human expression and generate content that resembles human-created outputs.\n",
       "- **Supports various applications:** Generative AI finds uses in content creation, art generation, natural language processing, drug discovery, and many other fields where novel or creative solutions are needed."
      ],
      "text/plain": [
       "<IPython.core.display.Markdown object>"
      ]
     },
     "execution_count": 4,
     "metadata": {},
     "output_type": "execute_result"
    }
   ],
   "source": [
    "response = model.generate_content(\"Explain Generative AI with 3 bullet points\")\n",
    "print(response.text)\n",
    "Markdown(response.text)"
   ]
  },
  {
   "cell_type": "markdown",
   "metadata": {},
   "source": [
    "## Task 3: Chat With Gemini And Retrieve The Chat History"
   ]
  },
  {
   "cell_type": "code",
   "execution_count": 5,
   "metadata": {},
   "outputs": [
    {
     "name": "stdout",
     "output_type": "stream",
     "text": [
      "parts {\n",
      "  text: \"Hi, give me some advice about where to eat today\"\n",
      "}\n",
      "role: \"user\"\n",
      "\n",
      "\n",
      "\n",
      "\n",
      "parts {\n",
      "  text: \"**Consider Your Preferences:**\\n\\n* **Cuisine:** What type of food do you crave? Italian, Mexican, Asian, American, etc.?\\n* **Ambiance:** Are you looking for a casual atmosphere, a romantic setting, or a lively vibe?\\n* **Dietary Restrictions:** Are there any dietary requirements you have, such as vegan, gluten-free, or vegetarian options?\\n\\n**Explore Online Reviews:**\\n\\n* Check restaurant review websites like Yelp, Google My Business, and Tripadvisor.\\n* Read reviews to get an idea of the food quality, service, and overall experience.\\n\\n**Utilize Social Media:**\\n\\n* Follow local food bloggers and influencers on Instagram or Facebook.\\n* Check their posts for recommendations and reviews.\\n\\n**Ask Locals:**\\n\\n* If you\\'re in a new area, ask locals for their favorite dining spots.\\n* Hotel staff or concierge can also provide valuable suggestions.\\n\\n**Specific Restaurant Recommendations:**\\n\\n**Casual Dining:**\\n\\n* **Five Guys:** Known for its customizable burgers and fries\\n* **Chipotle Mexican Grill:** Offers customizable Mexican food bowls, burritos, and tacos\\n* **Olive Garden:** A classic Italian chain with a wide menu and affordable pricing\\n\\n**Fine Dining:**\\n\\n* **The French Room:** A renowned restaurant in Dallas known for its elegant ambiance and French cuisine\\n* **Canlis:** A Seattle waterfront seafood restaurant with stunning views and award-winning dishes\\n* **Eleven Madison Park:** A three-Michelin-starred restaurant in New York City that offers a modern American tasting menu\\n\\n**Ethnic Cuisine:**\\n\\n* **Pho 75:** A Vietnamese restaurant in Houston known for its authentic pho and banh mi\\n* **El Topo:** A Brooklyn Mexican restaurant specializing in Oaxacan cuisine and mezcal cocktails\\n* **Din Tai Fung:** A Taiwanese chain famous for its delicious dumplings and soup noodles\\n\\n**Unique Dining Experiences:**\\n\\n* **Dinner in the Sky:** An aerial dining experience where you dine in suspended chairs high above the ground\\n* **The Ice Hotel:** A hotel in Sweden where you can dine in an ice restaurant surrounded by stunning ice sculptures\\n* **Underwater Restaurant:** A restaurant like the Ithaa Undersea Restaurant in the Maldives, where you can enjoy a meal while surrounded by marine life\"\n",
      "}\n",
      "role: \"model\"\n",
      "\n",
      "\n",
      "\n",
      "\n"
     ]
    },
    {
     "data": {
      "text/plain": [
       "total_tokens: 11"
      ]
     },
     "execution_count": 5,
     "metadata": {},
     "output_type": "execute_result"
    }
   ],
   "source": [
    "hist = model.start_chat()\n",
    "response = hist.send_message(\"Hi, give me some advice about where to eat today\")\n",
    "Markdown(response.text)\n",
    "\n",
    "for i in hist.history:\n",
    "    print(i)\n",
    "    print('\\n\\n')\n",
    "i.parts[0].text\n",
    "\n",
    "model.count_tokens(\"Now tell me the address of the place you adviced\")"
   ]
  },
  {
   "cell_type": "markdown",
   "metadata": {},
   "source": [
    "## Task 4: Experiment With The Temperature Parameter"
   ]
  },
  {
   "cell_type": "code",
   "execution_count": 6,
   "metadata": {},
   "outputs": [
    {
     "name": "stdout",
     "output_type": "stream",
     "text": [
      "\n",
      "\n",
      "For temperature value 0.0, the result is: \n",
      "\n"
     ]
    },
    {
     "data": {
      "text/markdown": [
       "The sky appears blue due to a phenomenon called Rayleigh scattering. This scattering occurs when sunlight, which is composed of all colors of the visible spectrum, passes through the Earth's atmosphere.\n",
       "\n",
       "As sunlight travels through the atmosphere, it encounters molecules of nitrogen and oxygen, which are much smaller than the wavelength of light. These molecules scatter the light in all directions, but they scatter shorter wavelengths (blue light) more effectively than longer wavelengths (red light). This is because the shorter wavelengths have a higher frequency and therefore interact more strongly with the molecules.\n",
       "\n",
       "As a result of this scattering, more blue light is scattered in all directions, while more red light continues in a straight line. This scattered blue light reaches our eyes from all directions, giving the sky its characteristic blue color.\n",
       "\n",
       "The amount of scattering depends on the wavelength of light and the density of the molecules in the atmosphere. At sunrise and sunset, when the sunlight has to travel through more of the atmosphere, more of the blue light is scattered away, leaving more of the longer wavelengths (red, orange, and yellow) to reach our eyes. This is why the sky appears red, orange, or yellow at these times."
      ],
      "text/plain": [
       "<IPython.core.display.Markdown object>"
      ]
     },
     "metadata": {},
     "output_type": "display_data"
    },
    {
     "name": "stdout",
     "output_type": "stream",
     "text": [
      "\n",
      "\n",
      "For temperature value 0.5, the result is: \n",
      "\n"
     ]
    },
    {
     "data": {
      "text/markdown": [
       "The sky appears blue due to a phenomenon called Rayleigh scattering. This scattering occurs when sunlight interacts with molecules in the Earth's atmosphere.\n",
       "\n",
       "1. **Sunlight:** Sunlight is a mixture of all colors, including red, orange, yellow, green, blue, indigo, and violet.\n",
       "\n",
       "2. **Molecules in the Atmosphere:** The Earth's atmosphere contains molecules of nitrogen and oxygen. These molecules are much smaller than the wavelength of visible light.\n",
       "\n",
       "3. **Scattering:** When sunlight enters the atmosphere, it interacts with these molecules. The molecules scatter the sunlight in all directions.\n",
       "\n",
       "4. **Wavelengths:** The amount of scattering depends on the wavelength of light. Shorter wavelengths (blue and violet) are scattered more than longer wavelengths (red and orange).\n",
       "\n",
       "5. **Blue Sky:** As sunlight travels through the atmosphere, the shorter wavelengths (blue and violet) are scattered more frequently than the longer wavelengths. This scattered blue light reaches our eyes, making the sky appear blue.\n",
       "\n",
       "6. **Sunsets and Sunrises:** At sunset and sunrise, the sunlight has to travel through more of the atmosphere to reach our eyes. This means that more of the blue light is scattered away, and we see more of the longer wavelengths (red and orange).\n",
       "\n",
       "So, the sky appears blue because the molecules in the atmosphere scatter the shorter wavelengths of sunlight (blue and violet) more than the longer wavelengths."
      ],
      "text/plain": [
       "<IPython.core.display.Markdown object>"
      ]
     },
     "metadata": {},
     "output_type": "display_data"
    },
    {
     "name": "stdout",
     "output_type": "stream",
     "text": [
      "\n",
      "\n",
      "For temperature value 1.0, the result is: \n",
      "\n"
     ]
    },
    {
     "data": {
      "text/markdown": [
       "The sky appears blue due to a phenomenon called Rayleigh scattering. Here's a detailed explanation:\n",
       "\n",
       "**1. Sunlight Composition:**\n",
       "- Sunlight is composed of all the colors of the visible spectrum (ROYGBIV: Red, Orange, Yellow, Green, Blue, Indigo, Violet).\n",
       "\n",
       "**2. Rayleigh Scattering:**\n",
       "- When sunlight enters the Earth's atmosphere, it interacts with tiny molecules in the air, such as nitrogen and oxygen molecules.\n",
       "- These molecules are significantly smaller than the wavelengths of visible light.\n",
       "- Due to their small size, the molecules scatter the shorter wavelengths of light (blue and violet) more efficiently than the longer wavelengths (red and orange).\n",
       "\n",
       "**3. Blue Dominance:**\n",
       "- Blue light has a shorter wavelength (around 450 nanometers) than red light (700 nanometers).\n",
       "- According to Rayleigh scattering, blue light is scattered in all directions to a greater extent than red light.\n",
       "- As scattered blue light travels toward our eyes from all directions, the sky appears predominantly blue.\n",
       "\n",
       "**4. Variation in Color:**\n",
       "- The intensity of the scattered blue light depends on the wavelength and distance.\n",
       "- As you move higher in the atmosphere, you encounter less air, resulting in less scattering. This causes the sky to appear darker blue.\n",
       "- Near the horizon at sunrise and sunset, the sunlight has to travel through more of the atmosphere before reaching our eyes. This results in the scattering of even more blue light, making the sky appear darker blue or purple towards the horizon.\n",
       "\n",
       "**Additional Factors:**\n",
       "- The amount of moisture and dust particles in the air can also affect the scattering of light and the perceived color of the sky.\n",
       "- Rayleigh scattering is not only responsible for the blue sky but also for colorful sunrises and sunsets."
      ],
      "text/plain": [
       "<IPython.core.display.Markdown object>"
      ]
     },
     "metadata": {},
     "output_type": "display_data"
    }
   ],
   "source": [
    "def get_response(prompt, generation_config={}):\n",
    "    response = model.generate_content(\n",
    "        contents=prompt,\n",
    "        generation_config=generation_config\n",
    "    )\n",
    "    return response\n",
    "\n",
    "for temp in [0.0, 0.5, 1.0]:\n",
    "    config = genai.types.GenerationConfig(temperature=temp)\n",
    "    result = get_response(\"Why the sky is blue\", generation_config=config)\n",
    "\n",
    "    print(f\"\\n\\nFor temperature value {temp}, the result is: \\n\")\n",
    "    display(Markdown(result.text))"
   ]
  },
  {
   "cell_type": "markdown",
   "metadata": {},
   "source": [
    "## Task 5: Experiment With Maximum Output Tokens"
   ]
  },
  {
   "cell_type": "code",
   "execution_count": 9,
   "metadata": {},
   "outputs": [
    {
     "name": "stdout",
     "output_type": "stream",
     "text": [
      "\n",
      "\n",
      "For max output token value 1, the results are: \n",
      "\n",
      "\n"
     ]
    },
    {
     "data": {
      "text/markdown": [
       "**"
      ],
      "text/plain": [
       "<IPython.core.display.Markdown object>"
      ]
     },
     "metadata": {},
     "output_type": "display_data"
    },
    {
     "name": "stdout",
     "output_type": "stream",
     "text": [
      "\n",
      "\n",
      "For max output token value 100, the results are: \n",
      "\n",
      "\n"
     ]
    },
    {
     "data": {
      "text/markdown": [
       "**XGBoost and Random Forest**\n",
       "\n",
       "**XGBoost (Extreme Gradient Boosting)**:\n",
       "- Ensemble method that combines multiple decision trees to improve predictive performance.\n",
       "- Uses a sequential learning algorithm that builds trees iteratively, adjusting weights based on previous tree performance.\n",
       "- Advantages: High accuracy, ability to handle complex data, efficient training process.\n",
       "\n",
       "**Random Forest**:\n",
       "- Ensemble method that also combines multiple decision trees.\n",
       "- Grows trees independently by randomly sampling data and features."
      ],
      "text/plain": [
       "<IPython.core.display.Markdown object>"
      ]
     },
     "metadata": {},
     "output_type": "display_data"
    },
    {
     "name": "stdout",
     "output_type": "stream",
     "text": [
      "\n",
      "\n",
      "For max output token value 200, the results are: \n",
      "\n",
      "\n"
     ]
    },
    {
     "data": {
      "text/markdown": [
       "**XGBoost (Extreme Gradient Boosting)**\n",
       "\n",
       "XGBoost is a highly efficient machine learning algorithm that combines the power of gradient boosting with tree ensembles. It works by building multiple decision trees incrementally, where each tree learns from the errors of previous trees.\n",
       "\n",
       "**Key Concepts:**\n",
       "\n",
       "* **Gradient Boosting:** XGBoost uses gradient boosting to construct a sequence of base learners, typically decision trees. Each tree is trained on the residuals (errors) of the previous trees.\n",
       "* **Tree Ensembles:** XGBoost combines individual decision trees into an ensemble, where the final prediction is made by aggregating the predictions of all trees.\n",
       "* **Regularization:** XGBoost employs various regularization techniques (e.g., L1 and L2 regularization) to prevent overfitting and improve generalization performance.\n",
       "\n",
       "**Real-Life Use Case:**\n",
       "\n",
       "XGBoost is widely used in various applications, including:\n",
       "\n",
       "* **Credit Risk Assessment:** Predicting the probability of a loan default based"
      ],
      "text/plain": [
       "<IPython.core.display.Markdown object>"
      ]
     },
     "metadata": {},
     "output_type": "display_data"
    }
   ],
   "source": [
    "for m_o_tok in [1, 100, 200]:\n",
    "    config = genai.types.GenerationConfig(max_output_tokens=m_o_tok)\n",
    "    result = get_response(\"Explain the concepts of XGBoost and Random Forest with real-life use cases\", generation_config=config)\n",
    "\n",
    "    print(f\"\\n\\nFor max output token value {m_o_tok}, the results are: \\n\\n\")\n",
    "    display(Markdown(result.text))"
   ]
  },
  {
   "cell_type": "markdown",
   "metadata": {},
   "source": [
    "## Task 6: Experiment With the top_k Parameter"
   ]
  },
  {
   "cell_type": "code",
   "execution_count": 10,
   "metadata": {},
   "outputs": [
    {
     "name": "stdout",
     "output_type": "stream",
     "text": [
      "\n",
      "\n",
      "For top k value 1, the results are: \n",
      "\n",
      "\n"
     ]
    },
    {
     "data": {
      "text/markdown": [
       "## XGBoost\n",
       "\n",
       "**Concept:**\n",
       "XGBoost (eXtreme Gradient Boosting) is an ensemble learning algorithm that combines multiple weak learners (decision trees) to create a strong learner. It employs gradient boosting, which sequentially trains weak learners by minimizing the loss function over the dataset.\n",
       "\n",
       "**Real-Life Use Cases:**\n",
       "\n",
       "* **Customer Churn Prediction:** Predicting the likelihood of customers leaving a service by analyzing their past behavior, demographics, and interactions.\n",
       "* **Fraud Detection:** Identifying fraudulent transactions by learning patterns in historical data, such as abnormal spending or suspicious IP addresses.\n",
       "* **Loan Default Prediction:** Assessing the risk of loan applications and determining which borrowers are likely to default based on their financial history and personal data.\n",
       "\n",
       "## Random Forest\n",
       "\n",
       "**Concept:**\n",
       "Random Forest is an ensemble learning algorithm that combines multiple decision trees, each trained on a different subset of the data and a random subset of features. It operates by taking the majority vote of the predictions from each individual tree.\n",
       "\n",
       "**Real-Life Use Cases:**\n",
       "\n",
       "* **Image Classification:** Identifying objects or scenes in images by training a Random Forest on a dataset of labeled images.\n",
       "* **Natural Language Processing:** Analyzing text data, such as sentiment analysis or spam filtering, by leveraging the ability of Random Forest to handle high-dimensional features.\n",
       "* **Medical Diagnosis:** Assisting in medical decision-making, such as diagnosing diseases or predicting treatment outcomes, by training a Random Forest on patient data and associated diagnoses.\n",
       "\n",
       "## Comparison\n",
       "\n",
       "**Similarities:**\n",
       "\n",
       "* Both XGBoost and Random Forest are ensemble learning algorithms that combine multiple weak learners to improve accuracy.\n",
       "* They can handle large and complex datasets with many features.\n",
       "* Both algorithms are powerful tools for classification and regression tasks.\n",
       "\n",
       "**Differences:**\n",
       "\n",
       "* **Model Complexity:** XGBoost is generally more complex than Random Forest, as it employs gradient boosting and regularization techniques to optimize its performance.\n",
       "* **Tuning:** XGBoost typically requires more hyperparameter tuning to achieve optimal results, while Random Forest is often more robust to default parameters.\n",
       "* **Interpretability:** Random Forest is generally considered more interpretable, as individual decision trees can be examined to understand the model's predictions, while XGBoost involves complex interactions between multiple trees.\n",
       "* **Speed:** Random Forest is typically faster to train than XGBoost, especially for large datasets."
      ],
      "text/plain": [
       "<IPython.core.display.Markdown object>"
      ]
     },
     "metadata": {},
     "output_type": "display_data"
    },
    {
     "name": "stdout",
     "output_type": "stream",
     "text": [
      "\n",
      "\n",
      "For top k value 16, the results are: \n",
      "\n",
      "\n"
     ]
    },
    {
     "data": {
      "text/markdown": [
       "**XGBoost (Extreme Gradient Boosting)**\n",
       "\n",
       "**Concept:** XGBoost is an advanced ensemble learning algorithm that uses gradient boosting to combine a large number of weak learners (decision trees). It iteratively builds a series of trees, with each tree focusing on correcting the errors of previous trees.\n",
       "\n",
       "**Real-Life Use Case:** Fraud Detection - XGBoost can be used to identify fraudulent transactions by leveraging historical data on past fraudulent and non-fraudulent transactions. By building multiple trees and considering their collective predictions, XGBoost improves accuracy and reduces false positives.\n",
       "\n",
       "**Random Forest**\n",
       "\n",
       "**Concept:** Random Forest is an ensemble learning algorithm that combines multiple decision trees. It constructs each tree using a different random subset of data and features. The final prediction is determined by aggregating the predictions of all individual trees.\n",
       "\n",
       "**Real-Life Use Case:** Disease Prediction - Random Forest can be used to predict the likelihood of developing a disease based on a patient's lifestyle, demographics, and health history. By considering multiple perspectives provided by different trees, Random Forest improves diagnostic sensitivity and specificity.\n",
       "\n",
       "**Key Differences**\n",
       "\n",
       "* **Boosting vs. Bagging:** XGBoost uses gradient boosting, where trees are built sequentially and focus on correcting errors of previous trees. Random Forest uses bagging, where trees are built independently on different subsets of data.\n",
       "* **Regularization:** XGBoost incorporates regularization to prevent overfitting and improve model stability. Random Forest relies on tree pruning to control complexity.\n",
       "* **Performance:** XGBoost typically outperforms Random Forest on large and complex datasets, especially when the goal is to minimize prediction error.\n",
       "\n",
       "**Shared Characteristics**\n",
       "\n",
       "* **Ensemble Methods:** Both XGBoost and Random Forest are ensemble methods that combine multiple models to enhance predictive accuracy.\n",
       "* **Handling Complex Data:** Both algorithms can handle both continuous and categorical variables, making them suitable for a wide range of datasets.\n",
       "* **Interpretability:** While ensemble methods can be less interpretable than simpler models, XGBoost and Random Forest offer techniques like feature importance calculation for understanding model behavior."
      ],
      "text/plain": [
       "<IPython.core.display.Markdown object>"
      ]
     },
     "metadata": {},
     "output_type": "display_data"
    },
    {
     "name": "stdout",
     "output_type": "stream",
     "text": [
      "\n",
      "\n",
      "For top k value 40, the results are: \n",
      "\n",
      "\n"
     ]
    },
    {
     "data": {
      "text/markdown": [
       "**XGBoost**\n",
       "\n",
       "XGBoost (Extreme Gradient Boosting) is a tree-based machine learning algorithm that combines multiple decision trees to create a more accurate model. It is known for its efficiency, scalability, and ability to handle both structured and unstructured data.\n",
       "\n",
       "**Concepts:**\n",
       "\n",
       "* **Trees:** XGBoost builds individual decision trees in an ensemble. Each tree predicts a value, and the final prediction is the sum of all the individual predictions.\n",
       "* **Gradient Boosting:** This technique iteratively adds new trees to the ensemble, where each new tree aims to correct the errors of the previous trees.\n",
       "* **Regularization:** XGBoost uses regularization techniques to prevent overfitting and improve model stability. This ensures that the model generalizes well to unseen data.\n",
       "\n",
       "**Real-Life Use Cases:**\n",
       "\n",
       "* **Customer churn prediction:** Identifying customers at risk of leaving a service.\n",
       "* **Fraud detection:** Detecting fraudulent transactions in financial systems.\n",
       "* **Medical diagnosis:** Assisting in disease diagnosis and personalized treatment plans.\n",
       "\n",
       "**Random Forest**\n",
       "\n",
       "Random Forest is also a tree-based machine learning algorithm that creates multiple decision trees during training. However, unlike XGBoost, it does not use gradient boosting.\n",
       "\n",
       "**Concepts:**\n",
       "\n",
       "* **Trees:** Random Forest creates a large number of decision trees, each trained on a different subset of the training data.\n",
       "* **Random Selection:** During tree construction, a random subset of features and data points is selected at each node. This helps reduce overfitting.\n",
       "* **Ensemble Voting:** The final prediction is made by combining the predictions of all the individual trees, typically via majority vote or averaging.\n",
       "\n",
       "**Real-Life Use Cases:**\n",
       "\n",
       "* **Image classification:** Recognizing objects and scenes in images.\n",
       "* **Object detection:** Locating and identifying specific objects within images.\n",
       "* **Natural language processing:** Understanding text data, sentiment analysis, and machine translation.\n",
       "\n",
       "**Comparison**\n",
       "\n",
       "* **Accuracy:** XGBoost generally has higher accuracy than Random Forest, especially for structured data.\n",
       "* **Efficiency:** XGBoost is more efficient in terms of training time and memory usage.\n",
       "* **Interpretability:** Random Forest is generally easier to interpret, as it does not rely on gradient boosting.\n",
       "* **Hyperparameter Tuning:** XGBoost has more hyperparameters to tune, but it also provides more advanced options for customization.\n",
       "\n",
       "The choice between XGBoost and Random Forest depends on the specific application and the available resources. Both algorithms are powerful techniques that can solve a wide range of machine learning problems."
      ],
      "text/plain": [
       "<IPython.core.display.Markdown object>"
      ]
     },
     "metadata": {},
     "output_type": "display_data"
    }
   ],
   "source": [
    "for k in [1, 16, 40]:\n",
    "    config = genai.types.GenerationConfig(top_k=k)\n",
    "    result = get_response(\"Explain the concepts of XGBoost and Random Forest with real-life use cases\", generation_config=config)\n",
    "\n",
    "    print(f\"\\n\\nFor top k value {k}, the results are: \\n\\n\")\n",
    "    display(Markdown(result.text))"
   ]
  },
  {
   "cell_type": "markdown",
   "metadata": {},
   "source": [
    "## Task 7: Experiment With the top_p Parameter"
   ]
  },
  {
   "cell_type": "code",
   "execution_count": null,
   "metadata": {},
   "outputs": [],
   "source": [
    "for p in [0, 0.2, 0.4, 0.8, 1]:\n",
    "    config = genai.types.GenerationConfig(top_p=p)\n",
    "    result = get_response(\"Explain the concepts of XGBoost and Random Forest with real-life use cases\", generation_config=config)\n",
    "\n",
    "    print(f\"\\n\\nFor top p value {p}, the results are: \\n\\n\")\n",
    "    display(Markdown(result.text))"
   ]
  },
  {
   "cell_type": "markdown",
   "metadata": {},
   "source": [
    "## Task 8: Experiment With the candidate_count Parameter"
   ]
  },
  {
   "cell_type": "code",
   "execution_count": null,
   "metadata": {},
   "outputs": [],
   "source": [
    "config = genai.types.GenerationConfig(candidate_count=1)\n",
    "result = get_response(\"Explain the concepts of XGBoost and Random Forest with real-life use cases\", generation_config=config)\n",
    "Markdown(result.text)\n",
    "# can only set candidate_count to 1 for the config parameter since the Gemini Pro model is designed to focus on generating the single best possible response rather than creating a variety of options. This could be due to the underlying architecture or training data used for the model."
   ]
  },
  {
   "cell_type": "markdown",
   "metadata": {},
   "source": [
    "## Task 9: Introduction to Retrieval Augmented Generation\n",
    "\n",
    "- Load the PDF document (from where you will retrieve the specific data) using the PyPDFLoader.\n",
    "\n",
    "- Extract the texts using RecursiveCharacterTextSplitter to have meaningful chunks of text for further processing.\n",
    "\n",
    "- Use GoogleGenerativeAIEmbeddings to generate the embeddings for the extracted texts that will be used for similarity search in RAG.\n",
    "\n",
    "- Use Chroma (a vector database) to store the created embeddings so that they can be used to retrieve the relevant information later when needed.\n",
    "\n",
    "- Use the RetrievalQA function to build the question-answering system for retrieval (finding relevant context) with generation (generating an answer based on the retrieved context). This function will use ChatGoogleGenerativeAI with the Gemini Pro model to generate responses from the retrieved context."
   ]
  },
  {
   "cell_type": "markdown",
   "metadata": {},
   "source": [
    "## Task 10: Load the PDF and Extract the Texts"
   ]
  },
  {
   "cell_type": "code",
   "execution_count": 12,
   "metadata": {},
   "outputs": [],
   "source": [
    "CHUNK_SIZE = 700\n",
    "CHUNK_OVERLAP = 100\n",
    "pdf_path = \"https://www.analytixlabs.co.in/assets/pdfs/Data_Engineering%20&_Other_Job_Roles-AnalytixLabs.pdf\""
   ]
  },
  {
   "cell_type": "code",
   "execution_count": 13,
   "metadata": {},
   "outputs": [],
   "source": [
    "pdf_loader = PyPDFLoader(pdf_path)\n",
    "split_pdf_document = pdf_loader.load_and_split()"
   ]
  },
  {
   "cell_type": "code",
   "execution_count": 15,
   "metadata": {},
   "outputs": [],
   "source": [
    "# Splitting text into chunks\n",
    "text_splitter = RecursiveCharacterTextSplitter(\n",
    "    chunk_size=CHUNK_SIZE,\n",
    "    chunk_overlap=CHUNK_OVERLAP\n",
    ")\n",
    "context = \"\\n\\n\".join(str(p.page_content) for p in split_pdf_document)\n",
    "texts = text_splitter.split_text(context)"
   ]
  },
  {
   "cell_type": "markdown",
   "metadata": {},
   "source": [
    "## Task 11: Create the Gemini Model and Create the Embeddings"
   ]
  },
  {
   "cell_type": "code",
   "execution_count": 19,
   "metadata": {},
   "outputs": [],
   "source": [
    "gemini_model = ChatGoogleGenerativeAI(\n",
    "    model='gemini-pro',\n",
    "    google_api_key=api_key,\n",
    "    temperature=0.8\n",
    ")"
   ]
  },
  {
   "cell_type": "code",
   "execution_count": 22,
   "metadata": {},
   "outputs": [],
   "source": [
    "embeddings = GoogleGenerativeAIEmbeddings(\n",
    "    model='models/embedding-001',\n",
    "    google_api_key=api_key\n",
    ")"
   ]
  },
  {
   "cell_type": "code",
   "execution_count": 23,
   "metadata": {},
   "outputs": [],
   "source": [
    "vector_index = Chroma.from_texts(texts, embeddings)\n",
    "retriever = vector_index.as_retriever(search_kwargs={\"k\" : 5})"
   ]
  },
  {
   "cell_type": "markdown",
   "metadata": {},
   "source": [
    "## Task 12: Create the RAG Chain and Ask Query"
   ]
  },
  {
   "cell_type": "code",
   "execution_count": 24,
   "metadata": {},
   "outputs": [],
   "source": [
    "qa_chain = RetrievalQA.from_chain_type(\n",
    "    gemini_model,\n",
    "    retriever=retriever,\n",
    "    return_source_documents=True\n",
    ")"
   ]
  },
  {
   "cell_type": "code",
   "execution_count": 25,
   "metadata": {},
   "outputs": [
    {
     "name": "stdout",
     "output_type": "stream",
     "text": [
      "Answer: * **Data integration tools** are used to extract, transform, and load data from various sources into a central repository. These tools can be used to automate the process of data integration, which can save time and improve data quality.\n",
      "* **Data modeling tools** are used to create logical and physical models of data. These models can be used to document the structure of data, define relationships between data elements, and identify data inconsistencies.\n",
      "* **Data quality tools** are used to assess the quality of data. These tools can be used to identify errors, inconsistencies, and missing values in data.\n",
      "* **Data governance tools** are used to manage the use of data. These tools can be used to define data policies, track data usage, and enforce data security.\n",
      "* **Cloud computing platforms** are used to host and manage data infrastructure. These platforms can provide data engineers with access to a variety of computing resources, including compute, storage, and networking.\n"
     ]
    }
   ],
   "source": [
    "# Example usage\n",
    "question = \"Which tools do Data Engineers primarily work with?\"\n",
    "result = qa_chain.invoke({\"query\": question})\n",
    "print(\"Answer:\", result[\"result\"])"
   ]
  }
 ],
 "metadata": {
  "kernelspec": {
   "display_name": "Python 3",
   "language": "python",
   "name": "python3"
  },
  "language_info": {
   "codemirror_mode": {
    "name": "ipython",
    "version": 3
   },
   "file_extension": ".py",
   "mimetype": "text/x-python",
   "name": "python",
   "nbconvert_exporter": "python",
   "pygments_lexer": "ipython3",
   "version": "3.10.14"
  },
  "orig_nbformat": 4,
  "vscode": {
   "interpreter": {
    "hash": "8a94588eda9d64d9e9a351ab8144e55b1fabf5113b54e67dd26a8c27df0381b3"
   }
  }
 },
 "nbformat": 4,
 "nbformat_minor": 2
}
